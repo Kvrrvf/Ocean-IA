{
 "cells": [
  {
   "cell_type": "code",
   "execution_count": 1,
   "metadata": {},
   "outputs": [],
   "source": [
    "import polars as pl\n",
    "import polars.selectors as cs\n",
    "import time\n",
    "from datetime import timedelta"
   ]
  },
  {
   "cell_type": "markdown",
   "metadata": {},
   "source": [
    "**Metagenomic occurrences**"
   ]
  },
  {
   "cell_type": "markdown",
   "metadata": {},
   "source": [
    "Abundance of genes in metagenomic reads.\n",
    "\n",
    "(from https://www.genoscope.cns.fr/tara/localdata/data/Geneset-v1/metagenomic_occurrences.tsv.gz)"
   ]
  },
  {
   "cell_type": "code",
   "execution_count": 2,
   "metadata": {},
   "outputs": [
    {
     "name": "stdout",
     "output_type": "stream",
     "text": [
      "Read time = 0:02:14\n",
      "Dataframe dimensions: (1288554892, 3)\n"
     ]
    },
    {
     "data": {
      "text/html": [
       "<div><style>\n",
       ".dataframe > thead > tr,\n",
       ".dataframe > tbody > tr {\n",
       "  text-align: right;\n",
       "  white-space: pre-wrap;\n",
       "}\n",
       "</style>\n",
       "<small>shape: (4, 3)</small><table border=\"1\" class=\"dataframe\"><thead><tr><th>unigeneID</th><th>sampleCode</th><th>Occurrence</th></tr><tr><td>i64</td><td>str</td><td>f64</td></tr></thead><tbody><tr><td>83028116</td><td>&quot;128SUR1QQSS11&quot;</td><td>1.6830e-10</td></tr><tr><td>85649520</td><td>&quot;128SUR1QQSS11&quot;</td><td>5.1929e-10</td></tr><tr><td>67525</td><td>&quot;128SUR1QQSS11&quot;</td><td>2.2329e-10</td></tr><tr><td>103429863</td><td>&quot;128SUR1QQSS11&quot;</td><td>2.6594e-10</td></tr></tbody></table></div>"
      ],
      "text/plain": [
       "shape: (4, 3)\n",
       "┌───────────┬───────────────┬────────────┐\n",
       "│ unigeneID ┆ sampleCode    ┆ Occurrence │\n",
       "│ ---       ┆ ---           ┆ ---        │\n",
       "│ i64       ┆ str           ┆ f64        │\n",
       "╞═══════════╪═══════════════╪════════════╡\n",
       "│ 83028116  ┆ 128SUR1QQSS11 ┆ 1.6830e-10 │\n",
       "│ 85649520  ┆ 128SUR1QQSS11 ┆ 5.1929e-10 │\n",
       "│ 67525     ┆ 128SUR1QQSS11 ┆ 2.2329e-10 │\n",
       "│ 103429863 ┆ 128SUR1QQSS11 ┆ 2.6594e-10 │\n",
       "└───────────┴───────────────┴────────────┘"
      ]
     },
     "execution_count": 2,
     "metadata": {},
     "output_type": "execute_result"
    }
   ],
   "source": [
    "t0=time.time()\n",
    "meta = pl.read_csv('/srv/storage/oceania@storage1.grenoble.grid5000.fr/TARA/Eukaryote_Gene_Catalog_MATOU/metagenomic_occurrences.tsv.gz',\n",
    "                        separator='\\t')\n",
    "t1=time.time()\n",
    "print(f\"Read time = {str(timedelta(seconds=round(t1-t0)))}\")\n",
    "print(f\"Dataframe dimensions: {meta.shape}\")\n",
    "meta.head(4)"
   ]
  },
  {
   "cell_type": "markdown",
   "metadata": {},
   "source": [
    "**Molecular function information** "
   ]
  },
  {
   "cell_type": "markdown",
   "metadata": {},
   "source": [
    "The protein families database (Pfam).\n",
    "\n",
    "(from https://www.genoscope.cns.fr/tara/localdata/data/Geneset-v1/pfam.tsv.gz)"
   ]
  },
  {
   "cell_type": "code",
   "execution_count": 3,
   "metadata": {},
   "outputs": [
    {
     "name": "stdout",
     "output_type": "stream",
     "text": [
      "Read time = 0:00:05\n",
      "Dataframe dimensions: (50913598, 3)\n"
     ]
    },
    {
     "data": {
      "text/html": [
       "<div><style>\n",
       ".dataframe > thead > tr,\n",
       ".dataframe > tbody > tr {\n",
       "  text-align: right;\n",
       "  white-space: pre-wrap;\n",
       "}\n",
       "</style>\n",
       "<small>shape: (4, 3)</small><table border=\"1\" class=\"dataframe\"><thead><tr><th>unigeneID</th><th>pfamAcc</th><th>domainBitScore</th></tr><tr><td>i64</td><td>str</td><td>f64</td></tr></thead><tbody><tr><td>2629491</td><td>&quot;PF00001&quot;</td><td>248.9</td></tr><tr><td>505662</td><td>&quot;PF00001&quot;</td><td>245.0</td></tr><tr><td>544990</td><td>&quot;PF00001&quot;</td><td>231.5</td></tr><tr><td>2748908</td><td>&quot;PF00001&quot;</td><td>210.0</td></tr></tbody></table></div>"
      ],
      "text/plain": [
       "shape: (4, 3)\n",
       "┌───────────┬─────────┬────────────────┐\n",
       "│ unigeneID ┆ pfamAcc ┆ domainBitScore │\n",
       "│ ---       ┆ ---     ┆ ---            │\n",
       "│ i64       ┆ str     ┆ f64            │\n",
       "╞═══════════╪═════════╪════════════════╡\n",
       "│ 2629491   ┆ PF00001 ┆ 248.9          │\n",
       "│ 505662    ┆ PF00001 ┆ 245.0          │\n",
       "│ 544990    ┆ PF00001 ┆ 231.5          │\n",
       "│ 2748908   ┆ PF00001 ┆ 210.0          │\n",
       "└───────────┴─────────┴────────────────┘"
      ]
     },
     "execution_count": 3,
     "metadata": {},
     "output_type": "execute_result"
    }
   ],
   "source": [
    "t0=time.time()\n",
    "pfam = pl.read_csv('/srv/storage/oceania@storage1.grenoble.grid5000.fr/TARA/Eukaryote_Gene_Catalog_MATOU/pfam.tsv.gz',\n",
    "                        separator='\\t')\n",
    "t1=time.time()\n",
    "print(f\"Read time = {str(timedelta(seconds=round(t1-t0)))}\")\n",
    "print(f\"Dataframe dimensions: {pfam.shape}\")\n",
    "\n",
    "pfam = pfam.rename({\"geneID\":\"unigeneID\"})\n",
    "\n",
    "pfam.head(4)"
   ]
  },
  {
   "cell_type": "markdown",
   "metadata": {},
   "source": [
    "**Unigene sequences dataset**"
   ]
  },
  {
   "cell_type": "markdown",
   "metadata": {},
   "source": [
    "See file format"
   ]
  },
  {
   "cell_type": "code",
   "execution_count": 22,
   "metadata": {},
   "outputs": [
    {
     "name": "stdout",
     "output_type": "stream",
     "text": [
      ">MATOU-v1_1\n",
      "GACAGCTCGAGGCGAACCTGTGGCTGAACGAGGGCTCAGGTTCAGCCTCTTGACGTCCGC\n",
      "AACTACCGTGGTGGCACGGCTTTCCAATGCAACTCTGTCTTCCTGCTCCTACTCGGGCAG\n",
      "CGGCTGCTCCAGCTCCATTTCACCGCTTGGCTGACGGCGGCGGCGGTAAGAAACTGTTGC\n",
      "CACACAGGCTGCAAAAACTGCGGCGCTAGCAGCAAAGACCGGCATGACTGCCGATGGTGT\n",
      "CTCAAAGCGTGGGATGTTGTCAGCATAAAGGCGCGAAGGGACAGCATCTGTGGCACATTT\n",
      "CTTCAGCCCGTCGTAGCTGTCCTCATTTTCGACACAGTCCTTCAACTTCTGCTTGAGAAC\n",
      "AGCCACGTCGCTTACATCCTTCACGCAGCACTCGGACGCGGTGCTCCCGCTTCTTGTGCT\n",
      "GCTAACTTTTTCGCCTGATTTGCAAGCACTGCTGCTCAGCACATCGCTGCAATACGCCCT\n",
      "GCACACCGCTTTTTGCTCCCTTGTATTGTGAAATCCACACTTCCCATTGTTGTCACACCA\n",
      "AGTAAAATGGGGCATCTTCCCCTCCCGGTCGTTGAAGTACGCGCAGTATGTGAAAGTGTT\n",
      "GTCATCGGCCTTCTCCGTGCCCTCGCCAGCGACTGCGAATCCAC\n",
      ">MATOU-v1_2\n",
      "GTAACGTTTCCTGTACAAATCTGATTTCAGATGTATTCGGAAACACTCATCGCTGTAATA\n",
      "GGCACAGACTTCACAAGCCTGTGGCTGAACGAGGGCTCAGGTCACGGACTCCTGACGCGC\n",
      "CCCTCAGGCCCTACAGTCGTCCGCACTTTCCGTGGTGGCACTTCTTTTCAATGCCGACTC\n",
      "TGTCTTCCTGCCCCTACTCGGCCAGCGGCAGCTCCACTTCACCACTTGGCTGGCGGCGGC\n",
      "GGCGGTAAGAAACTGCTGCCACACAAGCTGCAAAAACTGCAGCGCCAGCAGCGAAGACCG\n",
      "GCATGACTGCCGAAGGTGTCTCGAAGCTCGGGATGTTGTCAGCGAAGAGGCGCGAGGGGA\n",
      "CAGCGCCTTCGGCGCATTCCTTCAGCCCTTTGTAGTCTGTCTCCGAGTCAACGCAATCCG\n",
      "\n",
      "gzip: stdout: Broken pipe\n"
     ]
    }
   ],
   "source": [
    "!zcat ~/Ocean_IA/group_storage/TARA/Eukaryote_Gene_Catalog_MATOU/MATOU-v1.fna.gz | head -n 20"
   ]
  },
  {
   "cell_type": "markdown",
   "metadata": {},
   "source": [
    "Number of unigenes"
   ]
  },
  {
   "cell_type": "code",
   "execution_count": 23,
   "metadata": {},
   "outputs": [
    {
     "name": "stdout",
     "output_type": "stream",
     "text": [
      "116849350\n"
     ]
    }
   ],
   "source": [
    "!zcat ~/Ocean_IA/group_storage/TARA/Eukaryote_Gene_Catalog_MATOU/MATOU-v1.fna.gz | grep -c \"^>\""
   ]
  },
  {
   "cell_type": "code",
   "execution_count": 16,
   "metadata": {},
   "outputs": [
    {
     "name": "stdout",
     "output_type": "stream",
     "text": [
      "Dataframe dimensions: (6225695, 5)\n"
     ]
    },
    {
     "data": {
      "text/html": [
       "<div><style>\n",
       ".dataframe > thead > tr,\n",
       ".dataframe > tbody > tr {\n",
       "  text-align: right;\n",
       "  white-space: pre-wrap;\n",
       "}\n",
       "</style>\n",
       "<small>shape: (8, 5)</small><table border=\"1\" class=\"dataframe\"><thead><tr><th>Proteic-GroupID</th><th>ClusterID</th><th>NumberUnigenes</th><th>Class</th><th>TaxonomicAssignation</th></tr><tr><td>i64</td><td>i64</td><td>i64</td><td>str</td><td>str</td></tr></thead><tbody><tr><td>0</td><td>1</td><td>132813</td><td>&quot;ftGF&quot;</td><td>&quot;O/U Eukaryota&quot;</td></tr><tr><td>39</td><td>2</td><td>115340</td><td>&quot;ftGF&quot;</td><td>&quot;root&quot;</td></tr><tr><td>35</td><td>3</td><td>102348</td><td>&quot;ftGF&quot;</td><td>&quot;O/U Eukaryota&quot;</td></tr><tr><td>38</td><td>4</td><td>73872</td><td>&quot;ftGF&quot;</td><td>&quot;O/U Eukaryota&quot;</td></tr><tr><td>24677</td><td>5</td><td>25070</td><td>&quot;ftGF&quot;</td><td>&quot;Haptophyceae&quot;</td></tr><tr><td>20</td><td>6</td><td>23873</td><td>&quot;ftGF&quot;</td><td>&quot;O/U Eukaryota&quot;</td></tr><tr><td>33</td><td>7</td><td>22324</td><td>&quot;tGF&quot;</td><td>&quot;Copepoda&quot;</td></tr><tr><td>17923</td><td>8</td><td>20580</td><td>&quot;ftGF&quot;</td><td>&quot;O/U Deuterosto…</td></tr></tbody></table></div>"
      ],
      "text/plain": [
       "shape: (8, 5)\n",
       "┌─────────────────┬───────────┬────────────────┬───────┬──────────────────────┐\n",
       "│ Proteic-GroupID ┆ ClusterID ┆ NumberUnigenes ┆ Class ┆ TaxonomicAssignation │\n",
       "│ ---             ┆ ---       ┆ ---            ┆ ---   ┆ ---                  │\n",
       "│ i64             ┆ i64       ┆ i64            ┆ str   ┆ str                  │\n",
       "╞═════════════════╪═══════════╪════════════════╪═══════╪══════════════════════╡\n",
       "│ 0               ┆ 1         ┆ 132813         ┆ ftGF  ┆ O/U Eukaryota        │\n",
       "│ 39              ┆ 2         ┆ 115340         ┆ ftGF  ┆ root                 │\n",
       "│ 35              ┆ 3         ┆ 102348         ┆ ftGF  ┆ O/U Eukaryota        │\n",
       "│ 38              ┆ 4         ┆ 73872          ┆ ftGF  ┆ O/U Eukaryota        │\n",
       "│ 24677           ┆ 5         ┆ 25070          ┆ ftGF  ┆ Haptophyceae         │\n",
       "│ 20              ┆ 6         ┆ 23873          ┆ ftGF  ┆ O/U Eukaryota        │\n",
       "│ 33              ┆ 7         ┆ 22324          ┆ tGF   ┆ Copepoda             │\n",
       "│ 17923           ┆ 8         ┆ 20580          ┆ ftGF  ┆ O/U Deuterostomia    │\n",
       "└─────────────────┴───────────┴────────────────┴───────┴──────────────────────┘"
      ]
     },
     "execution_count": 16,
     "metadata": {},
     "output_type": "execute_result"
    }
   ],
   "source": [
    "ID = pl.read_csv('~/Ocean_IA/group_storage/TARA/Eukaryote_Gene_Catalog_MATOU/clusters.tsv.gz',\n",
    "                        separator='\\t')\n",
    "print(f\"Dataframe dimensions: {ID.shape}\")\n",
    "ID.head(8)"
   ]
  },
  {
   "cell_type": "markdown",
   "metadata": {},
   "source": [
    "**Join metagenomic dataframe with pfam**"
   ]
  },
  {
   "cell_type": "code",
   "execution_count": 4,
   "metadata": {},
   "outputs": [
    {
     "name": "stdout",
     "output_type": "stream",
     "text": [
      "Join time = 0:00:46\n",
      "Dataframe dimensions: (1736232225, 5)\n"
     ]
    },
    {
     "data": {
      "text/html": [
       "<div><style>\n",
       ".dataframe > thead > tr,\n",
       ".dataframe > tbody > tr {\n",
       "  text-align: right;\n",
       "  white-space: pre-wrap;\n",
       "}\n",
       "</style>\n",
       "<small>shape: (4, 5)</small><table border=\"1\" class=\"dataframe\"><thead><tr><th>unigeneID</th><th>sampleCode</th><th>Occurrence</th><th>pfamAcc</th><th>domainBitScore</th></tr><tr><td>i64</td><td>str</td><td>f64</td><td>str</td><td>f64</td></tr></thead><tbody><tr><td>83028116</td><td>&quot;128SUR1QQSS11&quot;</td><td>1.6830e-10</td><td>null</td><td>null</td></tr><tr><td>85649520</td><td>&quot;128SUR1QQSS11&quot;</td><td>5.1929e-10</td><td>null</td><td>null</td></tr><tr><td>67525</td><td>&quot;128SUR1QQSS11&quot;</td><td>2.2329e-10</td><td>&quot;PF01694&quot;</td><td>81.6</td></tr><tr><td>103429863</td><td>&quot;128SUR1QQSS11&quot;</td><td>2.6594e-10</td><td>null</td><td>null</td></tr></tbody></table></div>"
      ],
      "text/plain": [
       "shape: (4, 5)\n",
       "┌───────────┬───────────────┬────────────┬─────────┬────────────────┐\n",
       "│ unigeneID ┆ sampleCode    ┆ Occurrence ┆ pfamAcc ┆ domainBitScore │\n",
       "│ ---       ┆ ---           ┆ ---        ┆ ---     ┆ ---            │\n",
       "│ i64       ┆ str           ┆ f64        ┆ str     ┆ f64            │\n",
       "╞═══════════╪═══════════════╪════════════╪═════════╪════════════════╡\n",
       "│ 83028116  ┆ 128SUR1QQSS11 ┆ 1.6830e-10 ┆ null    ┆ null           │\n",
       "│ 85649520  ┆ 128SUR1QQSS11 ┆ 5.1929e-10 ┆ null    ┆ null           │\n",
       "│ 67525     ┆ 128SUR1QQSS11 ┆ 2.2329e-10 ┆ PF01694 ┆ 81.6           │\n",
       "│ 103429863 ┆ 128SUR1QQSS11 ┆ 2.6594e-10 ┆ null    ┆ null           │\n",
       "└───────────┴───────────────┴────────────┴─────────┴────────────────┘"
      ]
     },
     "execution_count": 4,
     "metadata": {},
     "output_type": "execute_result"
    }
   ],
   "source": [
    "t0=time.time()\n",
    "\n",
    "metaG = meta.join(pfam, on=\"unigeneID\", how=\"left\" )\n",
    "\n",
    "t1=time.time()\n",
    "print(f\"Join time = {str(timedelta(seconds=round(t1-t0)))}\")\n",
    "print(f\"Dataframe dimensions: {metaG.shape}\")\n",
    "metaG.head(4)"
   ]
  },
  {
   "cell_type": "markdown",
   "metadata": {},
   "source": [
    "**Filter dataset based on COI ID**"
   ]
  },
  {
   "cell_type": "markdown",
   "metadata": {},
   "source": [
    "Pfam ID of Cytochrome c oxidase sub-unit I (COI) --> PF00115"
   ]
  },
  {
   "cell_type": "code",
   "execution_count": 12,
   "metadata": {},
   "outputs": [
    {
     "name": "stdout",
     "output_type": "stream",
     "text": [
      "Time = 0:00:10\n",
      "Dataframe dimensions: (22959, 5)\n",
      "n° of unique genes: 1272\n",
      "n° of diferent samples: 440\n"
     ]
    },
    {
     "data": {
      "text/html": [
       "<div><style>\n",
       ".dataframe > thead > tr,\n",
       ".dataframe > tbody > tr {\n",
       "  text-align: right;\n",
       "  white-space: pre-wrap;\n",
       "}\n",
       "</style>\n",
       "<small>shape: (4, 5)</small><table border=\"1\" class=\"dataframe\"><thead><tr><th>unigeneID</th><th>sampleCode</th><th>Occurrence</th><th>pfamAcc</th><th>domainBitScore</th></tr><tr><td>i64</td><td>str</td><td>f64</td><td>str</td><td>f64</td></tr></thead><tbody><tr><td>69763190</td><td>&quot;128SUR1QQSS11&quot;</td><td>1.7281e-10</td><td>&quot;PF00115&quot;</td><td>24.9</td></tr><tr><td>14050984</td><td>&quot;128SUR1QQSS11&quot;</td><td>1.1164e-10</td><td>&quot;PF00115&quot;</td><td>27.6</td></tr><tr><td>68688293</td><td>&quot;128SUR1QQSS11&quot;</td><td>1.3836e-10</td><td>&quot;PF00115&quot;</td><td>34.7</td></tr><tr><td>35343029</td><td>&quot;128SUR1QQSS11&quot;</td><td>1.1164e-10</td><td>&quot;PF00115&quot;</td><td>24.0</td></tr></tbody></table></div>"
      ],
      "text/plain": [
       "shape: (4, 5)\n",
       "┌───────────┬───────────────┬────────────┬─────────┬────────────────┐\n",
       "│ unigeneID ┆ sampleCode    ┆ Occurrence ┆ pfamAcc ┆ domainBitScore │\n",
       "│ ---       ┆ ---           ┆ ---        ┆ ---     ┆ ---            │\n",
       "│ i64       ┆ str           ┆ f64        ┆ str     ┆ f64            │\n",
       "╞═══════════╪═══════════════╪════════════╪═════════╪════════════════╡\n",
       "│ 69763190  ┆ 128SUR1QQSS11 ┆ 1.7281e-10 ┆ PF00115 ┆ 24.9           │\n",
       "│ 14050984  ┆ 128SUR1QQSS11 ┆ 1.1164e-10 ┆ PF00115 ┆ 27.6           │\n",
       "│ 68688293  ┆ 128SUR1QQSS11 ┆ 1.3836e-10 ┆ PF00115 ┆ 34.7           │\n",
       "│ 35343029  ┆ 128SUR1QQSS11 ┆ 1.1164e-10 ┆ PF00115 ┆ 24.0           │\n",
       "└───────────┴───────────────┴────────────┴─────────┴────────────────┘"
      ]
     },
     "execution_count": 12,
     "metadata": {},
     "output_type": "execute_result"
    }
   ],
   "source": [
    "t0 = time.time()\n",
    "\n",
    "COI = metaG.filter(pl.col(\"pfamAcc\") == \"PF00115\")\n",
    "\n",
    "t1 = time.time()\n",
    "print(f\"Time = {str(timedelta(seconds=round(t1-t0)))}\")\n",
    "print(f\"Dataframe dimensions: {COI.shape}\")\n",
    "print(f\"n° of unique genes: {len(COI['unigeneID'].unique())}\")\n",
    "print(f\"n° of diferent samples: {len(COI['sampleCode'].unique())}\")\n",
    "COI.head(4)"
   ]
  },
  {
   "cell_type": "markdown",
   "metadata": {},
   "source": [
    "**Basic graphical representation**"
   ]
  },
  {
   "cell_type": "code",
   "execution_count": null,
   "metadata": {},
   "outputs": [],
   "source": []
  },
  {
   "cell_type": "code",
   "execution_count": null,
   "metadata": {},
   "outputs": [],
   "source": []
  },
  {
   "cell_type": "code",
   "execution_count": null,
   "metadata": {},
   "outputs": [],
   "source": []
  },
  {
   "cell_type": "code",
   "execution_count": null,
   "metadata": {},
   "outputs": [],
   "source": []
  },
  {
   "cell_type": "code",
   "execution_count": null,
   "metadata": {},
   "outputs": [],
   "source": []
  },
  {
   "cell_type": "code",
   "execution_count": null,
   "metadata": {},
   "outputs": [],
   "source": []
  },
  {
   "cell_type": "markdown",
   "metadata": {},
   "source": [
    "Desorden"
   ]
  },
  {
   "cell_type": "code",
   "execution_count": 15,
   "metadata": {},
   "outputs": [
    {
     "name": "stdout",
     "output_type": "stream",
     "text": [
      "Dataframe dimensions: (68756633, 2)\n"
     ]
    },
    {
     "data": {
      "text/html": [
       "<div><style>\n",
       ".dataframe > thead > tr,\n",
       ".dataframe > tbody > tr {\n",
       "  text-align: right;\n",
       "  white-space: pre-wrap;\n",
       "}\n",
       "</style>\n",
       "<small>shape: (8, 2)</small><table border=\"1\" class=\"dataframe\"><thead><tr><th>1747</th><th>1</th></tr><tr><td>i64</td><td>i64</td></tr></thead><tbody><tr><td>1786</td><td>1</td></tr><tr><td>2183</td><td>1</td></tr><tr><td>2676</td><td>1</td></tr><tr><td>3286</td><td>1</td></tr><tr><td>4386</td><td>1</td></tr><tr><td>4387</td><td>1</td></tr><tr><td>4388</td><td>1</td></tr><tr><td>5023</td><td>1</td></tr></tbody></table></div>"
      ],
      "text/plain": [
       "shape: (8, 2)\n",
       "┌──────┬─────┐\n",
       "│ 1747 ┆ 1   │\n",
       "│ ---  ┆ --- │\n",
       "│ i64  ┆ i64 │\n",
       "╞══════╪═════╡\n",
       "│ 1786 ┆ 1   │\n",
       "│ 2183 ┆ 1   │\n",
       "│ 2676 ┆ 1   │\n",
       "│ 3286 ┆ 1   │\n",
       "│ 4386 ┆ 1   │\n",
       "│ 4387 ┆ 1   │\n",
       "│ 4388 ┆ 1   │\n",
       "│ 5023 ┆ 1   │\n",
       "└──────┴─────┘"
      ]
     },
     "execution_count": 15,
     "metadata": {},
     "output_type": "execute_result"
    }
   ],
   "source": [
    "ID = pl.read_csv('~/Ocean_IA/group_storage/TARA/Eukaryote_Gene_Catalog_MATOU/unigeneID_clusterID.tsv.gz',\n",
    "                        separator='\\t')\n",
    "print(f\"Dataframe dimensions: {ID.shape}\")\n",
    "ID.head(8)"
   ]
  }
 ],
 "metadata": {
  "kernelspec": {
   "display_name": "Python 3 (ipykernel)",
   "language": "python",
   "name": "python3"
  },
  "language_info": {
   "codemirror_mode": {
    "name": "ipython",
    "version": 3
   },
   "file_extension": ".py",
   "mimetype": "text/x-python",
   "name": "python",
   "nbconvert_exporter": "python",
   "pygments_lexer": "ipython3",
   "version": "3.9.2"
  }
 },
 "nbformat": 4,
 "nbformat_minor": 2
}
