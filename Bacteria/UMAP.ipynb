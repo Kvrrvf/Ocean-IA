{
 "cells": [
  {
   "cell_type": "markdown",
   "metadata": {},
   "source": [
    "**Libraries and dependencies**"
   ]
  },
  {
   "cell_type": "code",
   "execution_count": null,
   "metadata": {},
   "outputs": [],
   "source": [
    "!sudo-g5k pip install -U scikit-learn umap-learn plotly xlsx2csv"
   ]
  },
  {
   "cell_type": "code",
   "execution_count": 1,
   "metadata": {},
   "outputs": [
    {
     "name": "stderr",
     "output_type": "stream",
     "text": [
      "/usr/local/lib/python3.9/dist-packages/tqdm/auto.py:21: TqdmWarning: IProgress not found. Please update jupyter and ipywidgets. See https://ipywidgets.readthedocs.io/en/stable/user_install.html\n",
      "  from .autonotebook import tqdm as notebook_tqdm\n"
     ]
    }
   ],
   "source": [
    "import time\n",
    "from datetime import timedelta\n",
    "import polars as pl\n",
    "import polars.selectors as cs\n",
    "\n",
    "import numpy as np\n",
    "import matplotlib.pyplot as plt\n",
    "import plotly.express as px\n",
    "from matplotlib.pyplot import figure\n",
    "from sklearn.preprocessing import StandardScaler\n",
    "\n",
    "import umap.umap_ as umap\n",
    "from umap import UMAP\n",
    "import hdbscan"
   ]
  },
  {
   "cell_type": "markdown",
   "metadata": {},
   "source": [
    "**Read data**"
   ]
  },
  {
   "cell_type": "code",
   "execution_count": 3,
   "metadata": {},
   "outputs": [
    {
     "name": "stdout",
     "output_type": "stream",
     "text": [
      "Environmental dataframe dimensions: (180, 38)\n",
      "MetaG dataframe dimensions: (46775154, 181)\n"
     ]
    }
   ],
   "source": [
    "m = pl.read_excel(source=\"~/Ocean_IA/group_storage/TARA/OM_RGC_V2/Salazar_et_al_2019_Suppl_Info.xlsx\",\n",
    "                  sheet_name=\"Table_W4\",\n",
    "                  read_csv_options={\"null_values\": ['NA'], \"n_rows\": 180})\n",
    "m = m.rename({\"PANGAEA sample id\":\"PANGAEA.sample.id\"})\n",
    "print(f\"Environmental dataframe dimensions: {m.shape}\")\n",
    " \n",
    "metaG = pl.read_csv('~/Ocean_IA/group_storage/TARA/OM_RGC_V2/OM-RGC_v2_gene_profile_metaG.tsv.gz',\n",
    "                    separator='\\t',\n",
    "                    dtypes=([pl.Utf8]+[pl.Float64]*180))\n",
    "print(f\"MetaG dataframe dimensions: {metaG.shape}\")"
   ]
  },
  {
   "cell_type": "markdown",
   "metadata": {},
   "source": [
    "**Tranpose**"
   ]
  },
  {
   "cell_type": "code",
   "execution_count": 4,
   "metadata": {},
   "outputs": [
    {
     "name": "stdout",
     "output_type": "stream",
     "text": [
      "Check tranpose. Time = 0:19:27\n",
      "Chek slice. Time = 0:19:50\n"
     ]
    }
   ],
   "source": [
    "t0 = time.time()\n",
    "s_t = metaG.transpose(include_header=True, column_names=metaG[\"OMRGC_ID\"])\n",
    "t2= time.time()\n",
    "print(f\"Check tranpose. Time = {str(timedelta(seconds=round(t2-t0)))}\")\n",
    "s_t = s_t.slice(1)\n",
    "t3=time.time()\n",
    "print(f\"Chek slice. Time = {str(timedelta(seconds=round(t3-t0)))}\")\n",
    "s_t = s_t.cast({cs.starts_with(\"OM\"):pl.Float64})\n",
    "t4=time.time()\n",
    "print(f\"Check dtype changes. Time = {str(timedelta(seconds=round(t4-t0)))}\")\n",
    "s_t = s_t.rename({\"column\":\"PANGAEA.sample.id\"})\n",
    "t5=time.time()\n",
    "print(f\"Check rename. Time = {str(timedelta(seconds=round(t5-t0)))}\")\n",
    "print(\"Success. New dataframe dimensions:\", s_t.shape)\n"
   ]
  },
  {
   "cell_type": "markdown",
   "metadata": {},
   "source": [
    "**Subset without MIX layer**"
   ]
  },
  {
   "cell_type": "code",
   "execution_count": 11,
   "metadata": {},
   "outputs": [
    {
     "name": "stdout",
     "output_type": "stream",
     "text": [
      "MIX df dimensions: (7, 38)\n"
     ]
    }
   ],
   "source": [
    "MIX = m.filter(pl.col(\"Layer\") == \"MIX\")\n",
    "print(\"MIX df dimensions:\", MIX.shape)\n",
    "\n",
    "L = MIX[\"PANGAEA.sample.id\"].to_list()"
   ]
  },
  {
   "cell_type": "code",
   "execution_count": null,
   "metadata": {},
   "outputs": [
    {
     "ename": "ColumnNotFoundError",
     "evalue": "unable to find column \"PANGAEA.sample.id\"; valid columns: [\"OMRGC_ID\", \"TARA_X000000368\", \"TARA_Y200000002\", \"TARA_A200000159\", \"TARA_A200000113\", \"TARA_X000001036\", \"TARA_X000000950\", \"TARA_S200000501\", \"TARA_A100000164\", \"TARA_E500000081\", \"TARA_E500000075\", \"TARA_E500000331\", \"TARA_E500000178\", \"TARA_A100001011\", \"TARA_A100001015\", \"TARA_A100001388\", \"TARA_A100001037\", \"TARA_A100001035\", \"TARA_A100001234\", \"TARA_B100000029\", \"TARA_B100000003\", \"TARA_B100000035\", \"TARA_Y100000022\", \"TARA_B100000315\", \"TARA_B100000073\", \"TARA_Y100000294\", \"TARA_Y100000287\", \"TARA_B100000085\", \"TARA_Y100000031\", \"TARA_B100000287\", \"TARA_B100000282\", \"TARA_B100000131\", \"TARA_B100000123\", \"TARA_B100000161\", \"TARA_B100000242\", \"TARA_B100000214\", \"TARA_B100000212\", \"TARA_B100000378\", \"TARA_B000000609\", \"TARA_B000000565\", \"TARA_B000000557\", \"TARA_B000000532\", \"TARA_B100000405\", \"TARA_B100000408\", \"TARA_B100000401\", \"TARA_B000000441\", \"TARA_B000000460\", \"TARA_B000000437\", \"TARA_B000000477\", \"TARA_B000000475\", \"TARA_B100000497\", \"TARA_B100000482\", \"TARA_B100000470\", \"TARA_B100000475\", \"TARA_B100000446\", \"TARA_B100000459\", \"TARA_B100000427\", \"TARA_B100000508\", \"TARA_B100000424\", \"TARA_B100000519\", \"TARA_B100000749\", \"TARA_B100000513\", \"TARA_B100000530\", \"TARA_B100000745\", \"TARA_B100000524\", \"TARA_B100000767\", \"TARA_B100000768\", \"TARA_B100000780\", \"TARA_B100000795\", \"TARA_B100000809\", \"TARA_B100000787\", \"TARA_B100001059\", \"TARA_B100001063\", \"TARA_B100001057\", \"TARA_B100000989\", \"TARA_B100001029\", \"TARA_B100001013\", \"TARA_B100001027\", \"TARA_B100000886\", \"TARA_B100000965\", \"TARA_B100000959\", \"TARA_B100000963\", \"TARA_B100000902\", \"TARA_B100000953\", \"TARA_B100000900\", \"TARA_B100000927\", \"TARA_B100000929\", \"TARA_B100000925\", \"TARA_B100001113\", \"TARA_B100001079\", \"TARA_B100001109\", \"TARA_B100000579\", \"TARA_B100000586\", \"TARA_B100000575\", \"TARA_B100000945\", \"TARA_B100000949\", \"TARA_B100000941\", \"TARA_B100000700\", \"TARA_B100000678\", \"TARA_B100001115\", \"TARA_B100000686\", \"TARA_B100000683\", \"TARA_B100000676\", \"TARA_B100000674\", \"TARA_B100001123\", \"TARA_B100001121\", \"TARA_B100000614\", \"TARA_B100000609\", \"TARA_B100001250\", \"TARA_B100001245\", \"TARA_B100001248\", \"TARA_B100001094\", \"TARA_B100001105\", \"TARA_B100001093\", \"TARA_B100001964\", \"TARA_B100001971\", \"TARA_B100001287\", \"TARA_B100001996\", \"TARA_B100002003\", \"TARA_B100001989\", \"TARA_B100002019\", \"TARA_B100001939\", \"TARA_B100002052\", \"TARA_B100002049\", \"TARA_B100002051\", \"TARA_B100001146\", \"TARA_B100001142\", \"TARA_B100001167\", \"TARA_B100001540\", \"TARA_B100001741\", \"TARA_B100001750\", \"TARA_B100001765\", \"TARA_B100001758\", \"TARA_B100001778\", \"TARA_B100001769\", \"TARA_B100001559\", \"TARA_B100001564\", \"TARA_B100001179\", \"TARA_B100001175\", \"TARA_B100001173\", \"TARA_B110000008\", \"TARA_B110000014\", \"TARA_B110000003\", \"TARA_B110001452\", \"TARA_B110001454\", \"TARA_B110001450\", \"TARA_B110000196\", \"TARA_B110001469\", \"TARA_B110000046\", \"TARA_B110000037\", \"TARA_B110000027\", \"TARA_B110000093\", \"TARA_B110000091\", \"TARA_B110000090\", \"TARA_B110000114\", \"TARA_B110000116\", \"TARA_B110000208\", \"TARA_B110000503\", \"TARA_B110000211\", \"TARA_B110000240\", \"TARA_B110000238\", \"TARA_B110000261\", \"TARA_B110000263\", \"TARA_B110000259\", \"TARA_B110000285\", \"TARA_B110000977\", \"TARA_B110000967\", \"TARA_B110000971\", \"TARA_B110000305\", \"TARA_B110000908\", \"TARA_B110000914\", \"TARA_B110000902\", \"TARA_B110000881\", \"TARA_B110000879\", \"TARA_B110000495\", \"TARA_B110000483\", \"TARA_B110000858\", \"TARA_B110000467\", \"TARA_B110000459\", \"TARA_B110000438\", \"TARA_B110000444\"]\n\nError originated just after this operation:\nDF [\"OMRGC_ID\", \"TARA_X000000368\", \"TARA_Y200000002\", \"TARA_A200000159\"]; PROJECT */181 COLUMNS; SELECTION: \"None\"",
     "output_type": "error",
     "traceback": [
      "\u001b[0;31m---------------------------------------------------------------------------\u001b[0m",
      "\u001b[0;31mColumnNotFoundError\u001b[0m                       Traceback (most recent call last)",
      "\u001b[0;32m/tmp/ipykernel_167392/391472093.py\u001b[0m in \u001b[0;36m<module>\u001b[0;34m\u001b[0m\n\u001b[0;32m----> 1\u001b[0;31m \u001b[0mmetaG_test\u001b[0m \u001b[0;34m=\u001b[0m \u001b[0mmetaG\u001b[0m\u001b[0;34m.\u001b[0m\u001b[0mfilter\u001b[0m\u001b[0;34m(\u001b[0m\u001b[0mpl\u001b[0m\u001b[0;34m.\u001b[0m\u001b[0mcol\u001b[0m\u001b[0;34m(\u001b[0m\u001b[0;34m\"PANGAEA.sample.id\"\u001b[0m\u001b[0;34m)\u001b[0m\u001b[0;34m!=\u001b[0m \u001b[0mL\u001b[0m\u001b[0;34m)\u001b[0m\u001b[0;34m\u001b[0m\u001b[0;34m\u001b[0m\u001b[0m\n\u001b[0m\u001b[1;32m      2\u001b[0m \u001b[0mprint\u001b[0m\u001b[0;34m(\u001b[0m\u001b[0;34m\"Filtered metaG df dimensions:\"\u001b[0m\u001b[0;34m,\u001b[0m \u001b[0mmetaG_test\u001b[0m\u001b[0;34m.\u001b[0m\u001b[0mshape\u001b[0m\u001b[0;34m)\u001b[0m\u001b[0;34m\u001b[0m\u001b[0;34m\u001b[0m\u001b[0m\n",
      "\u001b[0;32m~/.local/lib/python3.9/site-packages/polars/dataframe/frame.py\u001b[0m in \u001b[0;36mfilter\u001b[0;34m(self, *predicates, **constraints)\u001b[0m\n\u001b[1;32m   4190\u001b[0m \u001b[0;34m\u001b[0m\u001b[0m\n\u001b[1;32m   4191\u001b[0m         \"\"\"\n\u001b[0;32m-> 4192\u001b[0;31m         \u001b[0;32mreturn\u001b[0m \u001b[0mself\u001b[0m\u001b[0;34m.\u001b[0m\u001b[0mlazy\u001b[0m\u001b[0;34m(\u001b[0m\u001b[0;34m)\u001b[0m\u001b[0;34m.\u001b[0m\u001b[0mfilter\u001b[0m\u001b[0;34m(\u001b[0m\u001b[0;34m*\u001b[0m\u001b[0mpredicates\u001b[0m\u001b[0;34m,\u001b[0m \u001b[0;34m**\u001b[0m\u001b[0mconstraints\u001b[0m\u001b[0;34m)\u001b[0m\u001b[0;34m.\u001b[0m\u001b[0mcollect\u001b[0m\u001b[0;34m(\u001b[0m\u001b[0m_eager\u001b[0m\u001b[0;34m=\u001b[0m\u001b[0;32mTrue\u001b[0m\u001b[0;34m)\u001b[0m\u001b[0;34m\u001b[0m\u001b[0;34m\u001b[0m\u001b[0m\n\u001b[0m\u001b[1;32m   4193\u001b[0m \u001b[0;34m\u001b[0m\u001b[0m\n\u001b[1;32m   4194\u001b[0m     \u001b[0;34m@\u001b[0m\u001b[0moverload\u001b[0m\u001b[0;34m\u001b[0m\u001b[0;34m\u001b[0m\u001b[0m\n",
      "\u001b[0;32m~/.local/lib/python3.9/site-packages/polars/lazyframe/frame.py\u001b[0m in \u001b[0;36mcollect\u001b[0;34m(self, type_coercion, predicate_pushdown, projection_pushdown, simplify_expression, slice_pushdown, comm_subplan_elim, comm_subexpr_elim, no_optimization, streaming, _eager)\u001b[0m\n\u001b[1;32m   1704\u001b[0m             \u001b[0m_eager\u001b[0m\u001b[0;34m,\u001b[0m\u001b[0;34m\u001b[0m\u001b[0;34m\u001b[0m\u001b[0m\n\u001b[1;32m   1705\u001b[0m         )\n\u001b[0;32m-> 1706\u001b[0;31m         \u001b[0;32mreturn\u001b[0m \u001b[0mwrap_df\u001b[0m\u001b[0;34m(\u001b[0m\u001b[0mldf\u001b[0m\u001b[0;34m.\u001b[0m\u001b[0mcollect\u001b[0m\u001b[0;34m(\u001b[0m\u001b[0;34m)\u001b[0m\u001b[0;34m)\u001b[0m\u001b[0;34m\u001b[0m\u001b[0;34m\u001b[0m\u001b[0m\n\u001b[0m\u001b[1;32m   1707\u001b[0m \u001b[0;34m\u001b[0m\u001b[0m\n\u001b[1;32m   1708\u001b[0m     \u001b[0;34m@\u001b[0m\u001b[0moverload\u001b[0m\u001b[0;34m\u001b[0m\u001b[0;34m\u001b[0m\u001b[0m\n",
      "\u001b[0;31mColumnNotFoundError\u001b[0m: unable to find column \"PANGAEA.sample.id\"; valid columns: [\"OMRGC_ID\", \"TARA_X000000368\", \"TARA_Y200000002\", \"TARA_A200000159\", \"TARA_A200000113\", \"TARA_X000001036\", \"TARA_X000000950\", \"TARA_S200000501\", \"TARA_A100000164\", \"TARA_E500000081\", \"TARA_E500000075\", \"TARA_E500000331\", \"TARA_E500000178\", \"TARA_A100001011\", \"TARA_A100001015\", \"TARA_A100001388\", \"TARA_A100001037\", \"TARA_A100001035\", \"TARA_A100001234\", \"TARA_B100000029\", \"TARA_B100000003\", \"TARA_B100000035\", \"TARA_Y100000022\", \"TARA_B100000315\", \"TARA_B100000073\", \"TARA_Y100000294\", \"TARA_Y100000287\", \"TARA_B100000085\", \"TARA_Y100000031\", \"TARA_B100000287\", \"TARA_B100000282\", \"TARA_B100000131\", \"TARA_B100000123\", \"TARA_B100000161\", \"TARA_B100000242\", \"TARA_B100000214\", \"TARA_B100000212\", \"TARA_B100000378\", \"TARA_B000000609\", \"TARA_B000000565\", \"TARA_B000000557\", \"TARA_B000000532\", \"TARA_B100000405\", \"TARA_B100000408\", \"TARA_B100000401\", \"TARA_B000000441\", \"TARA_B000000460\", \"TARA_B000000437\", \"TARA_B000000477\", \"TARA_B000000475\", \"TARA_B100000497\", \"TARA_B100000482\", \"TARA_B100000470\", \"TARA_B100000475\", \"TARA_B100000446\", \"TARA_B100000459\", \"TARA_B100000427\", \"TARA_B100000508\", \"TARA_B100000424\", \"TARA_B100000519\", \"TARA_B100000749\", \"TARA_B100000513\", \"TARA_B100000530\", \"TARA_B100000745\", \"TARA_B100000524\", \"TARA_B100000767\", \"TARA_B100000768\", \"TARA_B100000780\", \"TARA_B100000795\", \"TARA_B100000809\", \"TARA_B100000787\", \"TARA_B100001059\", \"TARA_B100001063\", \"TARA_B100001057\", \"TARA_B100000989\", \"TARA_B100001029\", \"TARA_B100001013\", \"TARA_B100001027\", \"TARA_B100000886\", \"TARA_B100000965\", \"TARA_B100000959\", \"TARA_B100000963\", \"TARA_B100000902\", \"TARA_B100000953\", \"TARA_B100000900\", \"TARA_B100000927\", \"TARA_B100000929\", \"TARA_B100000925\", \"TARA_B100001113\", \"TARA_B100001079\", \"TARA_B100001109\", \"TARA_B100000579\", \"TARA_B100000586\", \"TARA_B100000575\", \"TARA_B100000945\", \"TARA_B100000949\", \"TARA_B100000941\", \"TARA_B100000700\", \"TARA_B100000678\", \"TARA_B100001115\", \"TARA_B100000686\", \"TARA_B100000683\", \"TARA_B100000676\", \"TARA_B100000674\", \"TARA_B100001123\", \"TARA_B100001121\", \"TARA_B100000614\", \"TARA_B100000609\", \"TARA_B100001250\", \"TARA_B100001245\", \"TARA_B100001248\", \"TARA_B100001094\", \"TARA_B100001105\", \"TARA_B100001093\", \"TARA_B100001964\", \"TARA_B100001971\", \"TARA_B100001287\", \"TARA_B100001996\", \"TARA_B100002003\", \"TARA_B100001989\", \"TARA_B100002019\", \"TARA_B100001939\", \"TARA_B100002052\", \"TARA_B100002049\", \"TARA_B100002051\", \"TARA_B100001146\", \"TARA_B100001142\", \"TARA_B100001167\", \"TARA_B100001540\", \"TARA_B100001741\", \"TARA_B100001750\", \"TARA_B100001765\", \"TARA_B100001758\", \"TARA_B100001778\", \"TARA_B100001769\", \"TARA_B100001559\", \"TARA_B100001564\", \"TARA_B100001179\", \"TARA_B100001175\", \"TARA_B100001173\", \"TARA_B110000008\", \"TARA_B110000014\", \"TARA_B110000003\", \"TARA_B110001452\", \"TARA_B110001454\", \"TARA_B110001450\", \"TARA_B110000196\", \"TARA_B110001469\", \"TARA_B110000046\", \"TARA_B110000037\", \"TARA_B110000027\", \"TARA_B110000093\", \"TARA_B110000091\", \"TARA_B110000090\", \"TARA_B110000114\", \"TARA_B110000116\", \"TARA_B110000208\", \"TARA_B110000503\", \"TARA_B110000211\", \"TARA_B110000240\", \"TARA_B110000238\", \"TARA_B110000261\", \"TARA_B110000263\", \"TARA_B110000259\", \"TARA_B110000285\", \"TARA_B110000977\", \"TARA_B110000967\", \"TARA_B110000971\", \"TARA_B110000305\", \"TARA_B110000908\", \"TARA_B110000914\", \"TARA_B110000902\", \"TARA_B110000881\", \"TARA_B110000879\", \"TARA_B110000495\", \"TARA_B110000483\", \"TARA_B110000858\", \"TARA_B110000467\", \"TARA_B110000459\", \"TARA_B110000438\", \"TARA_B110000444\"]\n\nError originated just after this operation:\nDF [\"OMRGC_ID\", \"TARA_X000000368\", \"TARA_Y200000002\", \"TARA_A200000159\"]; PROJECT */181 COLUMNS; SELECTION: \"None\""
     ]
    }
   ],
   "source": [
    "metaG_test = s_t.filter(pl.col(\"PANGAEA.sample.id\") != L)\n",
    "print(\"Filtered metaG df dimensions:\", metaG_test.shape)"
   ]
  },
  {
   "cell_type": "markdown",
   "metadata": {},
   "source": [
    "**Normalization**"
   ]
  },
  {
   "cell_type": "code",
   "execution_count": null,
   "metadata": {},
   "outputs": [],
   "source": [
    "t0=time.time()\n",
    "n = s_t.drop(\"PANGAEA.sample.id\")\n",
    "N = StandardScaler().fit_transform(n)\n",
    "t1=time.time()\n",
    "print(f\"Normalization time = {str(timedelta(seconds=round(t1-t0)))}\")"
   ]
  },
  {
   "cell_type": "code",
   "execution_count": null,
   "metadata": {},
   "outputs": [],
   "source": [
    "t0=time.time()\n",
    "umap_model_2D = umap.UMAP(n_neighbors=40, n_components=2, min_dist=0.1, spread=1.0, random_state=42)\n",
    "umap_2D = umap_model_2D.fit_transform(N)\n",
    "t1=time.time()\n",
    "print(f\"Process time = {str(timedelta(seconds=round(t1-t0)))}\")"
   ]
  },
  {
   "cell_type": "code",
   "execution_count": null,
   "metadata": {},
   "outputs": [],
   "source": [
    "figure_2D = px.scatter(\n",
    "    umap_2D, x=0, y=1, color=m['Layer'],\n",
    "    labels={\"0\": \"Dimension 1\", \"1\": \"Dimension 2\"},\n",
    "    template=\"plotly_white\", width=1000, height=800, opacity=.6)\n",
    "\n",
    "figure_2D.update_traces(marker_size=8)\n",
    "figure_2D.update_layout(legend_itemsizing=\"constant\", legend_font_size=15, font=dict(size=12))\n",
    "figure_2D.show()"
   ]
  },
  {
   "cell_type": "code",
   "execution_count": null,
   "metadata": {},
   "outputs": [],
   "source": [
    "t0=time.time()\n",
    "umap_model_3D = umap.UMAP(n_neighbors=40,n_components=3, min_dist=0.1, spread=1.0,random_state=42)\n",
    "umap_3D = umap_model_3D.fit_transform(N)\n",
    "t1=time.time()\n",
    "print(f\"Process time = {str(timedelta(seconds=round(t1-t0)))}\")"
   ]
  },
  {
   "cell_type": "code",
   "execution_count": null,
   "metadata": {},
   "outputs": [],
   "source": [
    "figure_3D = px.scatter_3d(\n",
    "    umap_3D, x=0, y=1, z=2, color=m['Layer'],\n",
    "    labels={\"0\": \"Dimension 1\", \"1\": \"Dimension 2\", \"2\": \"Dimension 3\"},\n",
    "    template=\"plotly_white\", width=1000, height=800, opacity=.5)\n",
    "\n",
    "figure_3D.update_traces(marker_size=11)\n",
    "figure_3D.update_layout(legend_itemsizing=\"constant\", legend_font_size=10, font=dict(size=12))\n",
    "figure_3D.show()"
   ]
  }
 ],
 "metadata": {
  "kernelspec": {
   "display_name": "Python 3 (ipykernel)",
   "language": "python",
   "name": "python3"
  }
 },
 "nbformat": 4,
 "nbformat_minor": 2
}
